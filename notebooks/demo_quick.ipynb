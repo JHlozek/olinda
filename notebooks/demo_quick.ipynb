{
 "cells": [
  {
   "cell_type": "code",
   "execution_count": null,
   "metadata": {},
   "outputs": [],
   "source": [
    "import sys\n",
    "import os\n",
    "sys.path.append(\"../src/olinda/utils/\")\n",
    "from precalc_descriptors import DescriptorCalculator\n",
    "\n",
    "os.makedirs(\"../precalculated_descriptors\", exist_ok=True)\n",
    "\n",
    "dc = DescriptorCalculator(\"../olinda_reference_library_1k.csv\", \"../precalculated_descriptors\")\n",
    "dc.calculate()"
   ]
  },
  {
   "cell_type": "markdown",
   "metadata": {},
   "source": [
    "## A model to distill\n",
    "\n",
    "You need a trained model for the distillation process. Here we are creating a simple pytorch model(untrained) for demo. A tensorflow model is also supported."
   ]
  },
  {
   "cell_type": "code",
   "execution_count": null,
   "metadata": {},
   "outputs": [],
   "source": [
    "from typing import Any\n",
    "\n",
    "import pytorch_lightning as pl\n",
    "from torch import nn\n",
    "from torch.nn import functional as F\n",
    "\n",
    "\n",
    "class DemoModel(pl.LightningModule):\n",
    "    \"\"\"OlindaNet Zero: Slim(relatively) distillation network.\"\"\"\n",
    "\n",
    "    def __init__(\n",
    "        self: \"DemoModel\"\n",
    "    ) -> None:\n",
    "        \"\"\"Init.\"\"\"\n",
    "        super().__init__()\n",
    "        self.fc1 = nn.Linear(1024, 512)\n",
    "        self.fc2 = nn.Linear(512, 256)\n",
    "        self.fc3 = nn.Linear(256, 1)\n",
    "\n",
    "        \n",
    "\n",
    "    def forward(self: \"DemoModel\", x: Any) -> Any:\n",
    "        \"\"\"Forward function.\n",
    "\n",
    "        Args:\n",
    "            x (Any): model input\n",
    "\n",
    "        Returns:\n",
    "            Any: model output\n",
    "        \"\"\"\n",
    "        x = self.fc1(x)\n",
    "        x = F.relu(x)\n",
    "        x = self.fc2(x)\n",
    "        x = F.relu(x)\n",
    "        x = self.fc3(x)\n",
    "        return x\n",
    "###############\n",
    "\n",
    "model = DemoModel()"
   ]
  },
  {
   "cell_type": "markdown",
   "metadata": {},
   "source": [
    "## Distillation"
   ]
  },
  {
   "cell_type": "code",
   "execution_count": null,
   "metadata": {},
   "outputs": [],
   "source": [
    "from olinda.distillation import distill\n",
    "from olinda.featurizer import MorganFeaturizer"
   ]
  },
  {
   "cell_type": "markdown",
   "metadata": {},
   "source": [
    "Quickly test the distillation pipeline for your model with a small reference smiles dataset"
   ]
  },
  {
   "cell_type": "code",
   "execution_count": null,
   "metadata": {},
   "outputs": [],
   "source": [
    "#student_model = distill(model, num_data=100)\n",
    "student_model = distill(\"/home/jason/zairachem_models/h3d_plasmodium_NF54_June2023\") #, num_data=100) #An even smaller test set"
   ]
  },
  {
   "cell_type": "code",
   "execution_count": null,
   "metadata": {},
   "outputs": [],
   "source": [
    "x = MorganFeaturizer().featurize([\"CCN(CC)CCCC(C)NC1=C2C=CC(=CC2=NC=C1)Cl\"]) #chloroquine test molecule\n",
    "student_model(x)"
   ]
  },
  {
   "cell_type": "code",
   "execution_count": null,
   "metadata": {},
   "outputs": [],
   "source": [
    "save_path = \"path/to/distilled/model.onnx\"\n",
    "student_model.save(save_path)"
   ]
  },
  {
   "cell_type": "code",
   "execution_count": null,
   "metadata": {},
   "outputs": [],
   "source": [
    "import onnx\n",
    "import onnxruntime as rt\n",
    "onnx_model = onnx.load(save_path)\n",
    "\n",
    "onnx_rt = rt.InferenceSession(onnx_model.SerializeToString())\n",
    "output_names = [n.name for n in onnx_model.graph.output]\n",
    "onnx_rt.run(output_names, {\"input\": x})"
   ]
  }
 ],
 "metadata": {
  "kernelspec": {
   "display_name": "Python 3",
   "language": "python",
   "name": "python3"
  },
  "language_info": {
   "codemirror_mode": {
    "name": "ipython",
    "version": 3
   },
   "file_extension": ".py",
   "mimetype": "text/x-python",
   "name": "python",
   "nbconvert_exporter": "python",
   "pygments_lexer": "ipython3",
   "version": "3.8.8"
  },
  "vscode": {
   "interpreter": {
    "hash": "1a99ec2c7e6dcf550e2bfe1082b4340c44b0e5bb78e6817969edc43085c4abe7"
   }
  }
 },
 "nbformat": 4,
 "nbformat_minor": 4
}
