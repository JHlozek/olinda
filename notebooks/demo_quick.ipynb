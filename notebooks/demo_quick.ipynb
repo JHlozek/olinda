{
 "cells": [
  {
   "cell_type": "code",
   "execution_count": 1,
   "metadata": {},
   "outputs": [
    {
     "name": "stderr",
     "output_type": "stream",
     "text": [
      "2024-05-16 14:40:53.276894: E external/local_xla/xla/stream_executor/cuda/cuda_dnn.cc:9261] Unable to register cuDNN factory: Attempting to register factory for plugin cuDNN when one has already been registered\n",
      "2024-05-16 14:40:53.276932: E external/local_xla/xla/stream_executor/cuda/cuda_fft.cc:607] Unable to register cuFFT factory: Attempting to register factory for plugin cuFFT when one has already been registered\n",
      "2024-05-16 14:40:53.277528: E external/local_xla/xla/stream_executor/cuda/cuda_blas.cc:1515] Unable to register cuBLAS factory: Attempting to register factory for plugin cuBLAS when one has already been registered\n",
      "2024-05-16 14:40:53.281158: I tensorflow/core/platform/cpu_feature_guard.cc:182] This TensorFlow binary is optimized to use available CPU instructions in performance-critical operations.\n",
      "To enable the following instructions: AVX2 FMA, in other operations, rebuild TensorFlow with the appropriate compiler flags.\n",
      "2024-05-16 14:40:53.968656: W tensorflow/compiler/tf2tensorrt/utils/py_utils.cc:38] TF-TRT Warning: Could not find TensorRT\n"
     ]
    },
    {
     "name": "stdout",
     "output_type": "stream",
     "text": [
      "Using TensorFlow backend\n"
     ]
    }
   ],
   "source": [
    "from olinda.distillation import distill"
   ]
  },
  {
   "cell_type": "markdown",
   "metadata": {},
   "source": [
    "## A model to distill\n",
    "\n",
    "You need a trained model for the distillation process. Here we are creating a simple pytorch model(untrained) for demo. A tensorflow model is also supported."
   ]
  },
  {
   "cell_type": "code",
   "execution_count": 2,
   "metadata": {},
   "outputs": [],
   "source": [
    "from typing import Any\n",
    "\n",
    "import pytorch_lightning as pl\n",
    "from torch import nn\n",
    "from torch.nn import functional as F\n",
    "\n",
    "\n",
    "class DemoModel(pl.LightningModule):\n",
    "    \"\"\"OlindaNet Zero: Slim(relatively) distillation network.\"\"\"\n",
    "\n",
    "    def __init__(\n",
    "        self: \"DemoModel\"\n",
    "    ) -> None:\n",
    "        \"\"\"Init.\"\"\"\n",
    "        super().__init__()\n",
    "        self.conv1 = nn.Conv2d(32, 32, kernel_size=3, padding=0, stride=3)\n",
    "        self.fc1 = nn.Linear(100, 512)\n",
    "        self.fc2 = nn.Linear(512, 256)\n",
    "        self.fc3 = nn.Linear(256, 1)\n",
    "\n",
    "        \n",
    "\n",
    "    def forward(self: \"DemoModel\", x: Any) -> Any:\n",
    "        \"\"\"Forward function.\n",
    "\n",
    "        Args:\n",
    "            x (Any): model input\n",
    "\n",
    "        Returns:\n",
    "            Any: model output\n",
    "        \"\"\"\n",
    "        x = self.conv1(x)\n",
    "        x = F.relu(x)\n",
    "\n",
    "        # flattening while keeping the batch axis\n",
    "        x = x.view(x.shape[0], -1)\n",
    "        x = self.fc1(x)\n",
    "        x = F.relu(x)\n",
    "        x = self.fc2(x)\n",
    "        x = F.relu(x)\n",
    "        x = self.fc3(x)\n",
    "        return x\n",
    "###############\n",
    "\n",
    "model = DemoModel()"
   ]
  },
  {
   "cell_type": "markdown",
   "metadata": {},
   "source": [
    "## Distillation"
   ]
  },
  {
   "cell_type": "markdown",
   "metadata": {},
   "source": [
    "Quickly test the distillation pipeline for your model with a small reference smiles dataset"
   ]
  },
  {
   "cell_type": "code",
   "execution_count": 3,
   "metadata": {},
   "outputs": [
    {
     "name": "stderr",
     "output_type": "stream",
     "text": [
      "Featurizing: 100%|█████████████████████████████████████████████████████████████████████████████████████████████████████████████████████████████████████████████████████| 3125/3125 [03:00<00:00, 17.30it/s]\n",
      "Creating model output: 100%|███████████████████████████████████████████████████████████████████████████████████████████████████████████████████████████████████████████| 3125/3125 [01:57<00:00, 26.54it/s]\n",
      "2024-05-16 14:46:14.801850: E external/local_xla/xla/stream_executor/cuda/cuda_driver.cc:274] failed call to cuInit: CUDA_ERROR_NO_DEVICE: no CUDA-capable device is detected\n",
      "2024-05-16 14:46:14.801877: I external/local_xla/xla/stream_executor/cuda/cuda_diagnostics.cc:129] retrieving CUDA diagnostic information for host: jason-Legion-5-15ACH6\n",
      "2024-05-16 14:46:14.801884: I external/local_xla/xla/stream_executor/cuda/cuda_diagnostics.cc:136] hostname: jason-Legion-5-15ACH6\n",
      "2024-05-16 14:46:14.801920: I external/local_xla/xla/stream_executor/cuda/cuda_diagnostics.cc:159] libcuda reported version is: 550.54.15\n",
      "2024-05-16 14:46:14.801937: I external/local_xla/xla/stream_executor/cuda/cuda_diagnostics.cc:163] kernel reported version is: 550.54.15\n",
      "2024-05-16 14:46:14.801942: I external/local_xla/xla/stream_executor/cuda/cuda_diagnostics.cc:241] kernel version seems to match DSO: 550.54.15\n"
     ]
    },
    {
     "name": "stdout",
     "output_type": "stream",
     "text": [
      "Reloading Tuner from ./trials/tuner0.json\n",
      "Epoch 1/3\n",
      "3125/3125 [==============================] - 235s 75ms/step - loss: 0.1133 - val_loss: 1.5815e-04\n",
      "Epoch 2/3\n",
      "3125/3125 [==============================] - 226s 72ms/step - loss: 1.4971e-04 - val_loss: 1.3651e-04\n",
      "Epoch 3/3\n",
      "3125/3125 [==============================] - 225s 72ms/step - loss: 1.3610e-04 - val_loss: 1.3184e-04\n",
      "Best epoch: 3\n",
      "Epoch 1/3\n",
      "3125/3125 [==============================] - 224s 72ms/step - loss: 0.2662 - val_loss: 1.5401e-04\n",
      "Epoch 2/3\n",
      "3125/3125 [==============================] - 224s 72ms/step - loss: 1.4310e-04 - val_loss: 1.3508e-04\n",
      "Epoch 3/3\n",
      "3125/3125 [==============================] - 224s 72ms/step - loss: 1.3538e-04 - val_loss: 1.3187e-04\n"
     ]
    },
    {
     "name": "stderr",
     "output_type": "stream",
     "text": [
      "2024-05-16 15:09:00.650862: I tensorflow/core/grappler/devices.cc:66] Number of eligible GPUs (core count >= 8, compute capability >= 0.0): 0\n",
      "2024-05-16 15:09:00.650963: I tensorflow/core/grappler/clusters/single_machine.cc:361] Starting new session\n",
      "2024-05-16 15:09:00.697568: I tensorflow/core/grappler/devices.cc:66] Number of eligible GPUs (core count >= 8, compute capability >= 0.0): 0\n",
      "2024-05-16 15:09:00.697666: I tensorflow/core/grappler/clusters/single_machine.cc:361] Starting new session\n"
     ]
    }
   ],
   "source": [
    "#featurizer, student_model = distill(model, test=True, clean=True)\n",
    "featurizer, student_model = distill(model, test=True, clean=True, small_data=True) #An even smaller test set"
   ]
  },
  {
   "cell_type": "code",
   "execution_count": 4,
   "metadata": {},
   "outputs": [
    {
     "data": {
      "text/plain": [
       "[-0.020981745794415474]"
      ]
     },
     "execution_count": 4,
     "metadata": {},
     "output_type": "execute_result"
    }
   ],
   "source": [
    "smiles_list = featurizer.featurize([\"CCCOC\"])\n",
    "student_model(smiles_list)"
   ]
  },
  {
   "cell_type": "code",
   "execution_count": null,
   "metadata": {},
   "outputs": [],
   "source": []
  }
 ],
 "metadata": {
  "kernelspec": {
   "display_name": "Python 3 (ipykernel)",
   "language": "python",
   "name": "python3"
  },
  "language_info": {
   "codemirror_mode": {
    "name": "ipython",
    "version": 3
   },
   "file_extension": ".py",
   "mimetype": "text/x-python",
   "name": "python",
   "nbconvert_exporter": "python",
   "pygments_lexer": "ipython3",
   "version": "3.9.19"
  },
  "vscode": {
   "interpreter": {
    "hash": "1a99ec2c7e6dcf550e2bfe1082b4340c44b0e5bb78e6817969edc43085c4abe7"
   }
  }
 },
 "nbformat": 4,
 "nbformat_minor": 4
}
