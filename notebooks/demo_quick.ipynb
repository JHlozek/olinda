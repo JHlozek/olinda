{
 "cells": [
  {
   "cell_type": "code",
   "execution_count": 1,
   "metadata": {},
   "outputs": [
    {
     "name": "stderr",
     "output_type": "stream",
     "text": [
      "/home/akumar/workspace/hub/ersilia-os/chemxor/scratch/tools/miniconda/envs/olinda-gpu/lib/python3.8/site-packages/tqdm/auto.py:22: TqdmWarning: IProgress not found. Please update jupyter and ipywidgets. See https://ipywidgets.readthedocs.io/en/stable/user_install.html\n",
      "  from .autonotebook import tqdm as notebook_tqdm\n",
      "2022-11-07 16:11:36.139860: I tensorflow/core/platform/cpu_feature_guard.cc:193] This TensorFlow binary is optimized with oneAPI Deep Neural Network Library (oneDNN) to use the following CPU instructions in performance-critical operations:  AVX2 AVX512F AVX512_VNNI FMA\n",
      "To enable them in other operations, rebuild TensorFlow with the appropriate compiler flags.\n",
      "2022-11-07 16:11:36.380280: I tensorflow/core/util/util.cc:169] oneDNN custom operations are on. You may see slightly different numerical results due to floating-point round-off errors from different computation orders. To turn them off, set the environment variable `TF_ENABLE_ONEDNN_OPTS=0`.\n",
      "2022-11-07 16:11:36.413617: E tensorflow/stream_executor/cuda/cuda_blas.cc:2981] Unable to register cuBLAS factory: Attempting to register factory for plugin cuBLAS when one has already been registered\n",
      "2022-11-07 16:11:37.041617: W tensorflow/stream_executor/platform/default/dso_loader.cc:64] Could not load dynamic library 'libnvinfer.so.7'; dlerror: libnvinfer.so.7: cannot open shared object file: No such file or directory; LD_LIBRARY_PATH: :/home/akumar/workspace/hub/ersilia-os/chemxor/scratch/tools/miniconda/envs/olinda-gpu/lib/\n",
      "2022-11-07 16:11:37.041860: W tensorflow/stream_executor/platform/default/dso_loader.cc:64] Could not load dynamic library 'libnvinfer_plugin.so.7'; dlerror: libnvinfer_plugin.so.7: cannot open shared object file: No such file or directory; LD_LIBRARY_PATH: :/home/akumar/workspace/hub/ersilia-os/chemxor/scratch/tools/miniconda/envs/olinda-gpu/lib/\n",
      "2022-11-07 16:11:37.041871: W tensorflow/compiler/tf2tensorrt/utils/py_utils.cc:38] TF-TRT Warning: Cannot dlopen some TensorRT libraries. If you would like to use Nvidia GPU with TensorRT, please make sure the missing libraries mentioned above are installed properly.\n"
     ]
    }
   ],
   "source": [
    "from olinda.distillation import distill\n",
    "from olinda.generic_model import GenericModel\n",
    "from olinda.tuner import KerasTuner\n",
    "from olinda.data import FeaturizedSmilesDM\n",
    "from olinda.utils import get_workspace_path"
   ]
  },
  {
   "cell_type": "markdown",
   "metadata": {},
   "source": [
    "## A model to distill\n",
    "\n",
    "You need a model for the distillation process. Here we are creating a simple pytorch model for demo. A tensorflow model is also supported."
   ]
  },
  {
   "cell_type": "code",
   "execution_count": 2,
   "metadata": {},
   "outputs": [],
   "source": [
    "from typing import Any\n",
    "\n",
    "import pytorch_lightning as pl\n",
    "from torch import nn\n",
    "from torch.nn import functional as F\n",
    "\n",
    "\n",
    "class DemoModel(pl.LightningModule):\n",
    "    \"\"\"OlindaNet Zero: Slim(relatively) distillation network.\"\"\"\n",
    "\n",
    "    def __init__(\n",
    "        self: \"DemoModel\"\n",
    "    ) -> None:\n",
    "        \"\"\"Init.\"\"\"\n",
    "        super().__init__()\n",
    "        self.conv1 = nn.Conv2d(32, 32, kernel_size=3, padding=0, stride=3)\n",
    "        self.fc1 = nn.Linear(100, 512)\n",
    "        self.fc2 = nn.Linear(512, 256)\n",
    "        self.fc3 = nn.Linear(256, 1)\n",
    "\n",
    "        \n",
    "\n",
    "    def forward(self: \"DemoModel\", x: Any) -> Any:\n",
    "        \"\"\"Forward function.\n",
    "\n",
    "        Args:\n",
    "            x (Any): model input\n",
    "\n",
    "        Returns:\n",
    "            Any: model output\n",
    "        \"\"\"\n",
    "        x = self.conv1(x)\n",
    "        x = F.relu(x)\n",
    "\n",
    "        # flattening while keeping the batch axis\n",
    "        x = x.view(x.shape[0], -1)\n",
    "        x = self.fc1(x)\n",
    "        x = F.relu(x)\n",
    "        x = self.fc2(x)\n",
    "        x = F.relu(x)\n",
    "        x = self.fc3(x)\n",
    "        return x\n",
    "###############\n",
    "\n",
    "model = DemoModel()"
   ]
  },
  {
   "cell_type": "markdown",
   "metadata": {},
   "source": [
    "Once you have a model. For distillation, it needs to be converted into a `GenericModel`."
   ]
  },
  {
   "cell_type": "code",
   "execution_count": 3,
   "metadata": {},
   "outputs": [],
   "source": [
    "model = GenericModel(model)"
   ]
  },
  {
   "cell_type": "markdown",
   "metadata": {},
   "source": [
    "## Distillation"
   ]
  },
  {
   "cell_type": "code",
   "execution_count": null,
   "metadata": {},
   "outputs": [],
   "source": [
    "student_model = distill(model, featurizer=None, working_dir=get_workspace_path(), tuner=KerasTuner([1,3]), featurized_smiles_dm=FeaturizedSmilesDM(get_workspace_path()))"
   ]
  },
  {
   "cell_type": "code",
   "execution_count": null,
   "metadata": {},
   "outputs": [],
   "source": []
  }
 ],
 "metadata": {
  "kernelspec": {
   "display_name": "Python 3.8.13 ('olinda-gpu')",
   "language": "python",
   "name": "python3"
  },
  "language_info": {
   "codemirror_mode": {
    "name": "ipython",
    "version": 3
   },
   "file_extension": ".py",
   "mimetype": "text/x-python",
   "name": "python",
   "nbconvert_exporter": "python",
   "pygments_lexer": "ipython3",
   "version": "3.8.13"
  },
  "orig_nbformat": 4,
  "vscode": {
   "interpreter": {
    "hash": "1e851b152f1452c805095b3f96d9a0cde2608c9ade3048f59ee26386bfb92d46"
   }
  }
 },
 "nbformat": 4,
 "nbformat_minor": 2
}
